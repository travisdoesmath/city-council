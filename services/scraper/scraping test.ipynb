{
 "cells": [
  {
   "cell_type": "code",
   "execution_count": 3,
   "id": "66b2da4a-1948-4a0e-a4b1-c66ae53b684f",
   "metadata": {},
   "outputs": [
    {
     "data": {
      "text/plain": [
       "True"
      ]
     },
     "execution_count": 3,
     "metadata": {},
     "output_type": "execute_result"
    }
   ],
   "source": [
    "import os\n",
    "import requests\n",
    "import boto3\n",
    "from bs4 import BeautifulSoup\n",
    "from urllib.parse import urljoin\n",
    "from dotenv import load_dotenv\n",
    "\n",
    "load_dotenv()"
   ]
  },
  {
   "cell_type": "code",
   "execution_count": 4,
   "id": "0cf0a017-d596-4e81-9d02-e645a13153a0",
   "metadata": {},
   "outputs": [],
   "source": [
    "SESSION_DATE = \"20250520\"\n",
    "BASE_URL = f\"https://www.austintexas.gov/department/city-council/2025/{SESSION_DATE}-wrk.htm\""
   ]
  },
  {
   "cell_type": "code",
   "execution_count": 12,
   "id": "4542f69f-498a-4448-9135-06e2a38d8052",
   "metadata": {},
   "outputs": [],
   "source": [
    "BUCKET_NAME = os.getenv(\"S3_BUCKET\")\n",
    "s3 = boto3.client(\"s3\")"
   ]
  },
  {
   "cell_type": "code",
   "execution_count": 5,
   "id": "3e907378-18b4-475b-957a-8ff44323d756",
   "metadata": {},
   "outputs": [],
   "source": [
    "def fetch_meeting_links():\n",
    "    response = requests.get(BASE_URL)\n",
    "    response.raise_for_status()\n",
    "    soup = BeautifulSoup(response.text, \"html.parser\")\n",
    "\n",
    "    links = []\n",
    "    for a in soup.find_all(\"a\", href=True):\n",
    "        href = a[\"href\"]\n",
    "        if \"document.cfm\" in href.lower() and a.text.strip() != '':\n",
    "            full_url = urljoin(BASE_URL, href)\n",
    "            filename = a.text.strip().replace(\",\", \"\").replace(\" \", \"_\").replace(\"_-_\", \"-\").replace(\":_\",\"-\") + \".pdf\"\n",
    "            if not filename.startswith(SESSION_DATE):\n",
    "                filename = f\"{SESSION_DATE}_{filename}\"\n",
    "            \n",
    "            links.append((filename, full_url))\n",
    "\n",
    "    return links\n",
    "\n",
    "def file_exists_in_s3(key):\n",
    "    try:\n",
    "        s3.head_object(Bucket=BUCKET_NAME, Key=key)\n",
    "        return True\n",
    "    except s3.exceptions.ClientError:\n",
    "        return False\n",
    "\n",
    "def upload_to_s3(filename, content):\n",
    "    s3.put_object(Bucket=BUCKET_NAME, Key=filename, Body=content)\n",
    "    print(f\"Uploaded to S3: {filename}\")\n",
    "\n",
    "def download_and_upload(links):\n",
    "    for filename, url in links:\n",
    "        if file_exists_in_s3(filename):\n",
    "            print(f\"Skipping (already in S3): {filename}\")\n",
    "            continue\n",
    "\n",
    "        print(f\"Downloading: {url}\")\n",
    "        response = requests.get(url)\n",
    "        if response.status_code == 200:\n",
    "            upload_to_s3(filename, response.content)\n",
    "        else:\n",
    "            print(f\"Failed to download {url} (status {response.status_code})\")"
   ]
  },
  {
   "cell_type": "code",
   "execution_count": 6,
   "id": "5a975d69-ad72-4eb6-9b83-c7c3bf90067c",
   "metadata": {},
   "outputs": [],
   "source": [
    "links = fetch_meeting_links()"
   ]
  },
  {
   "cell_type": "code",
   "execution_count": 13,
   "id": "7f2ddb31-eac7-4a81-b457-eb9380f59d2e",
   "metadata": {},
   "outputs": [
    {
     "ename": "ClientError",
     "evalue": "An error occurred (404) when calling the HeadObject operation: Not Found",
     "output_type": "error",
     "traceback": [
      "\u001b[31m---------------------------------------------------------------------------\u001b[39m",
      "\u001b[31mClientError\u001b[39m                               Traceback (most recent call last)",
      "\u001b[36mCell\u001b[39m\u001b[36m \u001b[39m\u001b[32mIn[13]\u001b[39m\u001b[32m, line 2\u001b[39m\n\u001b[32m      1\u001b[39m key, url = links[\u001b[32m0\u001b[39m]\n\u001b[32m----> \u001b[39m\u001b[32m2\u001b[39m \u001b[43ms3\u001b[49m\u001b[43m.\u001b[49m\u001b[43mhead_object\u001b[49m\u001b[43m(\u001b[49m\u001b[43mBucket\u001b[49m\u001b[43m=\u001b[49m\u001b[43mBUCKET_NAME\u001b[49m\u001b[43m,\u001b[49m\u001b[43m \u001b[49m\u001b[43mKey\u001b[49m\u001b[43m=\u001b[49m\u001b[43mkey\u001b[49m\u001b[43m)\u001b[49m\n",
      "\u001b[36mFile \u001b[39m\u001b[32m/opt/anaconda3/envs/scraper/lib/python3.12/site-packages/botocore/client.py:595\u001b[39m, in \u001b[36mClientCreator._create_api_method.<locals>._api_call\u001b[39m\u001b[34m(self, *args, **kwargs)\u001b[39m\n\u001b[32m    591\u001b[39m     \u001b[38;5;28;01mraise\u001b[39;00m \u001b[38;5;167;01mTypeError\u001b[39;00m(\n\u001b[32m    592\u001b[39m         \u001b[33mf\u001b[39m\u001b[33m\"\u001b[39m\u001b[38;5;132;01m{\u001b[39;00mpy_operation_name\u001b[38;5;132;01m}\u001b[39;00m\u001b[33m() only accepts keyword arguments.\u001b[39m\u001b[33m\"\u001b[39m\n\u001b[32m    593\u001b[39m     )\n\u001b[32m    594\u001b[39m \u001b[38;5;66;03m# The \"self\" in this scope is referring to the BaseClient.\u001b[39;00m\n\u001b[32m--> \u001b[39m\u001b[32m595\u001b[39m \u001b[38;5;28;01mreturn\u001b[39;00m \u001b[38;5;28;43mself\u001b[39;49m\u001b[43m.\u001b[49m\u001b[43m_make_api_call\u001b[49m\u001b[43m(\u001b[49m\u001b[43moperation_name\u001b[49m\u001b[43m,\u001b[49m\u001b[43m \u001b[49m\u001b[43mkwargs\u001b[49m\u001b[43m)\u001b[49m\n",
      "\u001b[36mFile \u001b[39m\u001b[32m/opt/anaconda3/envs/scraper/lib/python3.12/site-packages/botocore/context.py:123\u001b[39m, in \u001b[36mwith_current_context.<locals>.decorator.<locals>.wrapper\u001b[39m\u001b[34m(*args, **kwargs)\u001b[39m\n\u001b[32m    121\u001b[39m \u001b[38;5;28;01mif\u001b[39;00m hook:\n\u001b[32m    122\u001b[39m     hook()\n\u001b[32m--> \u001b[39m\u001b[32m123\u001b[39m \u001b[38;5;28;01mreturn\u001b[39;00m \u001b[43mfunc\u001b[49m\u001b[43m(\u001b[49m\u001b[43m*\u001b[49m\u001b[43margs\u001b[49m\u001b[43m,\u001b[49m\u001b[43m \u001b[49m\u001b[43m*\u001b[49m\u001b[43m*\u001b[49m\u001b[43mkwargs\u001b[49m\u001b[43m)\u001b[49m\n",
      "\u001b[36mFile \u001b[39m\u001b[32m/opt/anaconda3/envs/scraper/lib/python3.12/site-packages/botocore/client.py:1058\u001b[39m, in \u001b[36mBaseClient._make_api_call\u001b[39m\u001b[34m(self, operation_name, api_params)\u001b[39m\n\u001b[32m   1054\u001b[39m     error_code = error_info.get(\u001b[33m\"\u001b[39m\u001b[33mQueryErrorCode\u001b[39m\u001b[33m\"\u001b[39m) \u001b[38;5;129;01mor\u001b[39;00m error_info.get(\n\u001b[32m   1055\u001b[39m         \u001b[33m\"\u001b[39m\u001b[33mCode\u001b[39m\u001b[33m\"\u001b[39m\n\u001b[32m   1056\u001b[39m     )\n\u001b[32m   1057\u001b[39m     error_class = \u001b[38;5;28mself\u001b[39m.exceptions.from_code(error_code)\n\u001b[32m-> \u001b[39m\u001b[32m1058\u001b[39m     \u001b[38;5;28;01mraise\u001b[39;00m error_class(parsed_response, operation_name)\n\u001b[32m   1059\u001b[39m \u001b[38;5;28;01melse\u001b[39;00m:\n\u001b[32m   1060\u001b[39m     \u001b[38;5;28;01mreturn\u001b[39;00m parsed_response\n",
      "\u001b[31mClientError\u001b[39m: An error occurred (404) when calling the HeadObject operation: Not Found"
     ]
    }
   ],
   "source": [
    "key, url = links[0]\n",
    "s3.head_object(Bucket=BUCKET_NAME, Key=key)"
   ]
  },
  {
   "cell_type": "code",
   "execution_count": 14,
   "id": "404945be-8f8f-496a-bea1-ae662001b0ff",
   "metadata": {},
   "outputs": [
    {
     "name": "stdout",
     "output_type": "stream",
     "text": [
      "Found 15 potential files\n",
      "Downloading: https://services.austintexas.gov/edims/document.cfm?id=451845\n",
      "Uploaded to S3: 20250520_City_Council_Work_Session-Hybrid_Speaker_Registration_and_Rules.pdf\n",
      "Downloading: https://services.austintexas.gov/edims/document.cfm?id=451759\n",
      "Uploaded to S3: 20250520_Agenda-Work_Session.pdf\n",
      "Downloading: https://services.austintexas.gov/edims/document.cfm?id=451972\n",
      "Uploaded to S3: 20250520_Transcript-Work_Session.pdf\n",
      "Downloading: https://services.austintexas.gov/edims/document.cfm?id=451760\n",
      "Uploaded to S3: 20250520-A041_Agenda_Backup-Draft_Resolution.pdf\n",
      "Downloading: https://services.austintexas.gov/edims/document.cfm?id=451812\n",
      "Uploaded to S3: 20250520-A041_Agenda_Backup-Recommendation_for_Action.pdf\n",
      "Downloading: https://services.austintexas.gov/edims/document.cfm?id=451762\n",
      "Uploaded to S3: 20250520-A042_Agenda_Backup-Draft_Resolution.pdf\n",
      "Downloading: https://services.austintexas.gov/edims/document.cfm?id=451763\n",
      "Uploaded to S3: 20250520-A042_Agenda_Backup-Exhibit_1.pdf\n",
      "Downloading: https://services.austintexas.gov/edims/document.cfm?id=451813\n",
      "Uploaded to S3: 20250520-A042_Agenda_Backup-Recommendation_for_Action.pdf\n",
      "Downloading: https://services.austintexas.gov/edims/document.cfm?id=451765\n",
      "Uploaded to S3: 20250520-A043_Agenda_Backup-Draft_Ordinance.pdf\n",
      "Downloading: https://services.austintexas.gov/edims/document.cfm?id=451766\n",
      "Uploaded to S3: 20250520-A043_Agenda_Backup-Fiscal_Note.pdf\n",
      "Downloading: https://services.austintexas.gov/edims/document.cfm?id=451814\n",
      "Uploaded to S3: 20250520-A043_Agenda_Backup-Recommendation_for_Action.pdf\n",
      "Downloading: https://services.austintexas.gov/edims/document.cfm?id=451966\n",
      "Uploaded to S3: 20250520-B001_Agenda_Backup-Backup.pdf\n",
      "Downloading: https://services.austintexas.gov/edims/document.cfm?id=451965\n",
      "Uploaded to S3: 20250520-B001_Agenda_Backup-CM_Siegel_Presentation.pdf\n",
      "Downloading: https://services.austintexas.gov/edims/document.cfm?id=451923\n",
      "Uploaded to S3: 20250520-B001_Agenda_Backup-Presentation.pdf\n",
      "Downloading: https://services.austintexas.gov/edims/document.cfm?id=451815\n",
      "Uploaded to S3: 20250520-B001_Agenda_Backup-Recommendation_for_Action.pdf\n"
     ]
    }
   ],
   "source": [
    "links = fetch_meeting_links()\n",
    "print(f\"Found {len(links)} potential files\")\n",
    "download_and_upload(links)"
   ]
  },
  {
   "cell_type": "code",
   "execution_count": null,
   "id": "743dffe4-a033-4ce6-b2f8-22e63e1f17b3",
   "metadata": {},
   "outputs": [],
   "source": []
  }
 ],
 "metadata": {
  "kernelspec": {
   "display_name": "Python 3 (ipykernel)",
   "language": "python",
   "name": "python3"
  },
  "language_info": {
   "codemirror_mode": {
    "name": "ipython",
    "version": 3
   },
   "file_extension": ".py",
   "mimetype": "text/x-python",
   "name": "python",
   "nbconvert_exporter": "python",
   "pygments_lexer": "ipython3",
   "version": "3.12.9"
  }
 },
 "nbformat": 4,
 "nbformat_minor": 5
}
